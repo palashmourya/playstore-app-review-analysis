{
  "nbformat": 4,
  "nbformat_minor": 0,
  "metadata": {
    "kernelspec": {
      "display_name": "Python 3",
      "language": "python",
      "name": "python3"
    },
    "language_info": {
      "codemirror_mode": {
        "name": "ipython",
        "version": 3
      },
      "file_extension": ".py",
      "mimetype": "text/x-python",
      "name": "python",
      "nbconvert_exporter": "python",
      "pygments_lexer": "ipython3",
      "version": "3.6.6"
    },
    "colab": {
      "name": "Copy of Play Store App Review Analysis - Capstone Project.ipynb",
      "provenance": [],
      "include_colab_link": true
    }
  },
  "cells": [
    {
      "cell_type": "markdown",
      "metadata": {
        "id": "view-in-github",
        "colab_type": "text"
      },
      "source": [
        "<a href=\"https://colab.research.google.com/github/palashmourya/playstore-app-review-analysis/blob/main/Copy_of_Play_Store_App_Review_Analysis_Capstone_Project.ipynb\" target=\"_parent\"><img src=\"https://colab.research.google.com/assets/colab-badge.svg\" alt=\"Open In Colab\"/></a>"
      ]
    },
    {
      "cell_type": "markdown",
      "metadata": {
        "id": "Y06xIdG26kRF"
      },
      "source": [
        "## <b> The Play Store apps data has enormous potential to drive app-making businesses to success. Actionable insights can be drawn for developers to work on and capture the Android market. </b>\n",
        "\n",
        "## <b> Each app (row) has values for catergory, rating, size, and more. Another dataset contains customer reviews of the android apps.</b>\n",
        "\n",
        "## <b> Explore and analyze the data to discover key factors responsible for app engagement and success. </b>"
      ]
    },
    {
      "cell_type": "code",
      "metadata": {
        "id": "dByMsuzT8Tnw",
        "colab": {
          "base_uri": "https://localhost:8080/"
        },
        "outputId": "df352a5f-f39a-4c51-bb0d-cf79a22327f7"
      },
      "source": [
        "#Lets Start\n",
        "#Firstly we import all important libraries required in our project\n",
        "\n",
        "import numpy as np\n",
        "import pandas as pd\n",
        "import matplotlib.pyplot as plt\n",
        "import seaborn as sns\n",
        "\n",
        "\n",
        "#Lets import our play store data\n",
        "#Here we first mounted the drive then read the data\n",
        "df_playstore_data=pd.read_csv('/content/drive/MyDrive/Colab Notebooks/Play Store Data.csv')\n",
        "\n",
        "\n",
        "#Reading data for first 10 rows\n",
        "df_playstore_data.head(10)\n",
        "\n",
        "\n",
        "#To know if there is any missing value or Nan value in the dataset, we can use the isnull() function\n",
        "df_playstore_data.isnull().sum()\n",
        "\n",
        "#Now we have some usefull data set from where see any null values in dataset\n",
        "#Now we can start data cleaning by filling out null values starting with Type\n",
        "\n",
        "df_playstore_data[df_playstore_data.Type.isnull()]\n",
        "\n",
        "#Since there is only one column that contains null value  ,we can start filling this value\n",
        "#After cross-checking in the play store the missing value is found to be Free, So now we can fill the missing value with free\n",
        "\n",
        "df_playstore_data['Type'].fillna(\"Free\",inplace=True)\n",
        "\n",
        "\n",
        "#Just check the value if it is correctly place or not\n",
        "df_playstore_data.isnull().sum()\n",
        "\n",
        "\n"
      ],
      "execution_count": 8,
      "outputs": [
        {
          "output_type": "execute_result",
          "data": {
            "text/plain": [
              "App                  0\n",
              "Category             0\n",
              "Rating            1474\n",
              "Reviews              0\n",
              "Size                 0\n",
              "Installs             0\n",
              "Type                 0\n",
              "Price                0\n",
              "Content Rating       1\n",
              "Genres               0\n",
              "Last Updated         0\n",
              "Current Ver          8\n",
              "Android Ver          3\n",
              "dtype: int64"
            ]
          },
          "metadata": {},
          "execution_count": 8
        }
      ]
    },
    {
      "cell_type": "code",
      "metadata": {
        "colab": {
          "base_uri": "https://localhost:8080/"
        },
        "id": "0hu5wjeRB96X",
        "outputId": "2b47d191-22ad-4416-f355-329693b2d0fd"
      },
      "source": [
        "from google.colab import drive\n",
        "drive.mount('/content/drive')"
      ],
      "execution_count": 3,
      "outputs": [
        {
          "output_type": "stream",
          "name": "stdout",
          "text": [
            "Mounted at /content/drive\n"
          ]
        }
      ]
    },
    {
      "cell_type": "code",
      "metadata": {
        "id": "6wSQHelmIaaa"
      },
      "source": [
        ""
      ],
      "execution_count": null,
      "outputs": []
    }
  ]
}